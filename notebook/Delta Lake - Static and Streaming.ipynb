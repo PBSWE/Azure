{
  "nbformat": 4,
  "nbformat_minor": 2,
  "metadata": {
    "kernelspec": {
      "name": "synapse_pyspark",
      "display_name": "Synapse PySpark"
    },
    "language_info": {
      "name": "python"
    },
    "description": "Delta Lake - Static and Streaming queries for creation of delta lake, db, data sink and external and managed tables.",
    "save_output": true,
    "synapse_widget": {
      "version": "0.1",
      "state": {}
    }
  },
  "cells": [
    {
      "cell_type": "code",
      "execution_count": 1,
      "outputs": [],
      "metadata": {
        "microsoft": {
          "language": "python"
        },
        "collapsed": false
      },
      "source": [
        "%%pyspark\r\n",
        "df = spark.read.load('abfss://files@datalakes5vexzn.dfs.core.windows.net/products/products.csv', format='csv'\r\n",
        "## If header exists uncomment line below\r\n",
        ", header=True\r\n",
        ")\r\n",
        "display(df.limit(10))"
      ]
    },
    {
      "cell_type": "code",
      "execution_count": 2,
      "outputs": [],
      "metadata": {
        "jupyter": {
          "source_hidden": false,
          "outputs_hidden": false
        },
        "nteract": {
          "transient": {
            "deleting": false
          }
        }
      },
      "source": [
        "delta_table_path = \"/delta/products-delta\"\n",
        "df.write.format(\"delta\").save(delta_table_path)"
      ]
    },
    {
      "cell_type": "code",
      "execution_count": 3,
      "outputs": [],
      "metadata": {
        "jupyter": {
          "source_hidden": false,
          "outputs_hidden": false
        },
        "nteract": {
          "transient": {
            "deleting": false
          }
        }
      },
      "source": [
        " from delta.tables import *\n",
        " from pyspark.sql.functions import *\n",
        "\n",
        " # Create a deltaTable object\n",
        " deltaTable = DeltaTable.forPath(spark, delta_table_path)\n",
        "\n",
        " # Update the table (reduce price of product 771 by 10%)\n",
        " deltaTable.update(\n",
        "     condition = \"ProductID == 771\",\n",
        "     set = { \"ListPrice\": \"ListPrice * 0.9\" })\n",
        "\n",
        " # View the updated data as a dataframe\n",
        " deltaTable.toDF().show(10)\n",
        ""
      ]
    },
    {
      "cell_type": "code",
      "execution_count": 4,
      "outputs": [],
      "metadata": {
        "jupyter": {
          "source_hidden": false,
          "outputs_hidden": false
        },
        "nteract": {
          "transient": {
            "deleting": false
          }
        }
      },
      "source": [
        "new_df = spark.read.format(\"delta\").load(delta_table_path)\n",
        "new_df.show(10)"
      ]
    },
    {
      "cell_type": "code",
      "execution_count": 5,
      "outputs": [],
      "metadata": {
        "jupyter": {
          "source_hidden": false,
          "outputs_hidden": false
        },
        "nteract": {
          "transient": {
            "deleting": false
          }
        }
      },
      "source": [
        " new_df = spark.read.format(\"delta\").option(\"versionAsOf\", 0).load(delta_table_path)\n",
        " new_df.show(10)\n",
        ""
      ]
    },
    {
      "cell_type": "code",
      "execution_count": 6,
      "outputs": [],
      "metadata": {
        "jupyter": {
          "source_hidden": false,
          "outputs_hidden": false
        },
        "nteract": {
          "transient": {
            "deleting": false
          }
        }
      },
      "source": [
        "deltaTable.history(10).show(20, False, True)"
      ]
    },
    {
      "cell_type": "code",
      "execution_count": 11,
      "outputs": [],
      "metadata": {
        "jupyter": {
          "source_hidden": false,
          "outputs_hidden": false
        },
        "nteract": {
          "transient": {
            "deleting": false
          }
        }
      },
      "source": [
        "spark.sql(\"create database AdventureWorks\")\n",
        "spark.sql(\"create table AdventureWorks.ProductsExternal using delta location '{0}'\".format(delta_table_path))\n",
        "spark.sql(\"describe extended AdventureWorks.ProductsExternal\").show(truncate=False)"
      ]
    },
    {
      "cell_type": "code",
      "execution_count": 12,
      "outputs": [],
      "metadata": {
        "jupyter": {
          "source_hidden": false,
          "outputs_hidden": false
        },
        "nteract": {
          "transient": {
            "deleting": false
          }
        },
        "microsoft": {
          "language": "sparksql"
        },
        "collapsed": false
      },
      "source": [
        "%%sql\n",
        "use AdventureWorks;\n",
        "\n",
        "select * from ProductsExternal;"
      ]
    },
    {
      "cell_type": "code",
      "execution_count": 13,
      "outputs": [],
      "metadata": {
        "jupyter": {
          "source_hidden": false,
          "outputs_hidden": false
        },
        "nteract": {
          "transient": {
            "deleting": false
          }
        }
      },
      "source": [
        "df.write.format(\"delta\").saveAsTable(\"AdventureWorks.ProductsManaged\")\n",
        "spark.sql(\"describe extended AdventureWorks.ProductsManaged\").show(truncate=False)"
      ]
    },
    {
      "cell_type": "code",
      "execution_count": 14,
      "outputs": [],
      "metadata": {
        "jupyter": {
          "source_hidden": false,
          "outputs_hidden": false
        },
        "nteract": {
          "transient": {
            "deleting": false
          }
        },
        "microsoft": {
          "language": "sparksql"
        },
        "collapsed": false
      },
      "source": [
        "%%sql\n",
        "use AdventureWorks;\n",
        "\n",
        "select * from ProductsManaged;"
      ]
    },
    {
      "cell_type": "code",
      "execution_count": 15,
      "outputs": [],
      "metadata": {
        "jupyter": {
          "source_hidden": false,
          "outputs_hidden": false
        },
        "nteract": {
          "transient": {
            "deleting": false
          }
        },
        "microsoft": {
          "language": "sparksql"
        },
        "collapsed": false
      },
      "source": [
        "%%sql\n",
        "use AdventureWorks;\n",
        "\n",
        "show tables;"
      ]
    },
    {
      "cell_type": "code",
      "execution_count": 16,
      "outputs": [],
      "metadata": {
        "jupyter": {
          "source_hidden": false,
          "outputs_hidden": false
        },
        "nteract": {
          "transient": {
            "deleting": false
          }
        },
        "microsoft": {
          "language": "sparksql"
        },
        "collapsed": false
      },
      "source": [
        " %%sql\n",
        "\n",
        " use AdventureWorks;\n",
        "\n",
        " drop table if exists ProductsExternal;\n",
        " drop table if exists  ProductsManaged;\n",
        ""
      ]
    },
    {
      "cell_type": "code",
      "execution_count": 17,
      "outputs": [],
      "metadata": {
        "jupyter": {
          "source_hidden": false,
          "outputs_hidden": false
        },
        "nteract": {
          "transient": {
            "deleting": false
          }
        },
        "microsoft": {
          "language": "sparksql"
        },
        "collapsed": false
      },
      "source": [
        " %%sql\n",
        "\n",
        " USE AdventureWorks;\n",
        "\n",
        " CREATE TABLE Products\n",
        " USING DELTA\n",
        " LOCATION '/delta/products-delta';\n",
        ""
      ]
    },
    {
      "cell_type": "code",
      "execution_count": 18,
      "outputs": [],
      "metadata": {
        "jupyter": {
          "source_hidden": false,
          "outputs_hidden": false
        },
        "nteract": {
          "transient": {
            "deleting": false
          }
        },
        "microsoft": {
          "language": "sparksql"
        },
        "collapsed": false
      },
      "source": [
        "%%sql\n",
        "use AdventureWorks;\n",
        "\n",
        "select * from Products;"
      ]
    },
    {
      "cell_type": "code",
      "execution_count": 19,
      "outputs": [],
      "metadata": {
        "jupyter": {
          "source_hidden": false,
          "outputs_hidden": false
        },
        "nteract": {
          "transient": {
            "deleting": false
          }
        }
      },
      "source": [
        " from notebookutils import mssparkutils\n",
        " from pyspark.sql.types import *\n",
        " from pyspark.sql.functions import *\n",
        "\n",
        " # Create a folder\n",
        " inputPath = '/data/'\n",
        " mssparkutils.fs.mkdirs(inputPath)\n",
        "\n",
        " # Create a stream that reads data from the folder, using a JSON schema\n",
        " jsonSchema = StructType([\n",
        " StructField(\"device\", StringType(), False),\n",
        " StructField(\"status\", StringType(), False)\n",
        " ])\n",
        " iotstream = spark.readStream.schema(jsonSchema).option(\"maxFilesPerTrigger\", 1).json(inputPath)\n",
        "\n",
        " # Write some event data to the folder\n",
        " device_data = '''{\"device\":\"Dev1\",\"status\":\"ok\"}\n",
        " {\"device\":\"Dev1\",\"status\":\"ok\"}\n",
        " {\"device\":\"Dev1\",\"status\":\"ok\"}\n",
        " {\"device\":\"Dev2\",\"status\":\"error\"}\n",
        " {\"device\":\"Dev1\",\"status\":\"ok\"}\n",
        " {\"device\":\"Dev1\",\"status\":\"error\"}\n",
        " {\"device\":\"Dev2\",\"status\":\"ok\"}\n",
        " {\"device\":\"Dev2\",\"status\":\"error\"}\n",
        " {\"device\":\"Dev1\",\"status\":\"ok\"}'''\n",
        " mssparkutils.fs.put(inputPath + \"data.txt\", device_data, True)\n",
        " print(\"Source stream created...\")\n",
        ""
      ]
    },
    {
      "cell_type": "code",
      "execution_count": 20,
      "outputs": [],
      "metadata": {
        "jupyter": {
          "source_hidden": false,
          "outputs_hidden": false
        },
        "nteract": {
          "transient": {
            "deleting": false
          }
        }
      },
      "source": [
        " # Write the stream to a delta table\n",
        " delta_stream_table_path = '/delta/iotdevicedata'\n",
        " checkpointpath = '/delta/checkpoint'\n",
        " deltastream = iotstream.writeStream.format(\"delta\").option(\"checkpointLocation\", checkpointpath).start(delta_stream_table_path)\n",
        " print(\"Streaming to delta sink...\")\n",
        ""
      ]
    },
    {
      "cell_type": "code",
      "execution_count": 21,
      "outputs": [],
      "metadata": {
        "jupyter": {
          "source_hidden": false,
          "outputs_hidden": false
        },
        "nteract": {
          "transient": {
            "deleting": false
          }
        },
        "collapsed": false
      },
      "source": [
        " # Read the data in delta format into a dataframe\n",
        " df = spark.read.format(\"delta\").load(delta_stream_table_path)\n",
        " display(df)\n",
        ""
      ]
    },
    {
      "cell_type": "code",
      "execution_count": 22,
      "outputs": [],
      "metadata": {
        "jupyter": {
          "source_hidden": false,
          "outputs_hidden": false
        },
        "nteract": {
          "transient": {
            "deleting": false
          }
        }
      },
      "source": [
        " # create a catalog table based on the streaming sink\n",
        " spark.sql(\"CREATE TABLE IotDeviceData USING DELTA LOCATION '{0}'\".format(delta_stream_table_path))\n",
        ""
      ]
    },
    {
      "cell_type": "code",
      "execution_count": 23,
      "outputs": [],
      "metadata": {
        "jupyter": {
          "source_hidden": false,
          "outputs_hidden": false
        },
        "nteract": {
          "transient": {
            "deleting": false
          }
        },
        "microsoft": {
          "language": "sparksql"
        },
        "collapsed": false
      },
      "source": [
        "%%sql\n",
        "\n",
        "select * from IotDeviceData;"
      ]
    },
    {
      "cell_type": "code",
      "execution_count": 24,
      "outputs": [],
      "metadata": {
        "jupyter": {
          "source_hidden": false,
          "outputs_hidden": false
        },
        "nteract": {
          "transient": {
            "deleting": false
          }
        }
      },
      "source": [
        " deltastream.stop()"
      ]
    }
  ]
}