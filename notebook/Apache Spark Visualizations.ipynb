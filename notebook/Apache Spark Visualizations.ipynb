{
  "cells": [
    {
      "cell_type": "code",
      "source": [
        "%%pyspark\r\n",
        "from pyspark.sql.types import *\r\n",
        "from pyspark.sql.functions import *\r\n",
        "\r\n",
        "orderSchema = StructType([\r\n",
        "     StructField(\"SalesOrderNumber\", StringType()),\r\n",
        "     StructField(\"SalesOrderLineNumber\", IntegerType()),\r\n",
        "     StructField(\"OrderDate\", DateType()),\r\n",
        "     StructField(\"CustomerName\", StringType()),\r\n",
        "     StructField(\"Email\", StringType()),\r\n",
        "     StructField(\"Item\", StringType()),\r\n",
        "     StructField(\"Quantity\", IntegerType()),\r\n",
        "     StructField(\"UnitPrice\", FloatType()),\r\n",
        "     StructField(\"Tax\", FloatType())\r\n",
        "    ])\r\n",
        "\r\n",
        "\r\n",
        "df = spark.read.load('abfss://files@datalakeuyld2gn.dfs.core.windows.net/sales/orders/2021.csv', format='csv', schema=orderSchema\r\n",
        "##, header=True\r\n",
        ")\r\n",
        "display(df.limit(100))"
      ],
      "outputs": [],
      "execution_count": 39,
      "metadata": {
        "microsoft": {
          "language": "python"
        },
        "collapsed": false
      }
    },
    {
      "cell_type": "code",
      "source": [
        "df.printSchema()"
      ],
      "outputs": [],
      "execution_count": 40,
      "metadata": {
        "jupyter": {
          "source_hidden": false,
          "outputs_hidden": false
        },
        "nteract": {
          "transient": {
            "deleting": false
          }
        }
      }
    },
    {
      "cell_type": "code",
      "source": [
        "customers = df.select('CustomerName', 'Email').where(df['Item']=='Road-250 Red, 52')\n",
        "print(customers.count())\n",
        "print(customers.distinct().count())\n",
        "display(customers.distinct())"
      ],
      "outputs": [],
      "execution_count": 41,
      "metadata": {
        "jupyter": {
          "source_hidden": false,
          "outputs_hidden": false
        },
        "nteract": {
          "transient": {
            "deleting": false
          }
        },
        "collapsed": false
      }
    },
    {
      "cell_type": "code",
      "source": [
        "productSales = df.select(\"Item\", \"Quantity\").groupBy(\"Item\").sum()\n",
        "display(productSales)"
      ],
      "outputs": [],
      "execution_count": 42,
      "metadata": {
        "jupyter": {
          "source_hidden": false,
          "outputs_hidden": false
        },
        "nteract": {
          "transient": {
            "deleting": false
          }
        },
        "collapsed": false
      }
    },
    {
      "cell_type": "code",
      "source": [
        "yearlySales = df.select(year(\"OrderDate\").alias(\"Year\")).groupby(\"Year\").count().orderBy(\"Year\")\n",
        "display(yearlySales)\n",
        "\n",
        "\n",
        "'''  \n",
        "Run the code cell you added, and note that the results show the number of sales orders per year.    /n\n",
        "Note that the select method includes a SQL year function to extract the year component of           /n\n",
        "the OrderDate field, and then an alias method is used to assign a columm name to the extracted      /n\n",
        "year value. The data is then grouped by the derived Year column and the count of rows in each       /n\n",
        "group is calculated before finally the orderBy method is used to sort the resulting dataframe.\n",
        "'''"
      ],
      "outputs": [],
      "execution_count": 43,
      "metadata": {
        "jupyter": {
          "source_hidden": false,
          "outputs_hidden": false
        },
        "nteract": {
          "transient": {
            "deleting": false
          }
        },
        "collapsed": false
      }
    },
    {
      "cell_type": "code",
      "source": [
        "df.createOrReplaceTempView(\"salesorders\")\n",
        "spark_df = spark.sql(\"select * from salesorders\")\n",
        "display(spark_df)"
      ],
      "outputs": [],
      "execution_count": 44,
      "metadata": {
        "jupyter": {
          "source_hidden": false,
          "outputs_hidden": false
        },
        "nteract": {
          "transient": {
            "deleting": false
          }
        },
        "collapsed": false
      }
    },
    {
      "cell_type": "code",
      "source": [
        "%%sql\n",
        "select year(OrderDate) as OrderYear,\n",
        "    sum((UnitPrice * Quantity) + Tax) as GrossRevenue\n",
        "from salesorders\n",
        "group by year(OrderDate)\n",
        "order by OrderYear;"
      ],
      "outputs": [],
      "execution_count": 45,
      "metadata": {
        "jupyter": {
          "source_hidden": false,
          "outputs_hidden": false
        },
        "nteract": {
          "transient": {
            "deleting": false
          }
        },
        "microsoft": {
          "language": "sparksql"
        },
        "collapsed": false
      }
    },
    {
      "cell_type": "code",
      "source": [
        "%%sql\n",
        "\n",
        "select * from salesorders"
      ],
      "outputs": [],
      "execution_count": 46,
      "metadata": {
        "jupyter": {
          "source_hidden": false,
          "outputs_hidden": false
        },
        "nteract": {
          "transient": {
            "deleting": false
          }
        },
        "microsoft": {
          "language": "sparksql"
        },
        "collapsed": false
      }
    },
    {
      "cell_type": "code",
      "source": [
        " sqlQuery = \"SELECT CAST(YEAR(OrderDate) AS CHAR(4)) AS OrderYear, \\\n",
        "                 SUM((UnitPrice * Quantity) + Tax) AS GrossRevenue \\\n",
        "             FROM salesorders \\\n",
        "             GROUP BY CAST(YEAR(OrderDate) AS CHAR(4)) \\\n",
        "             ORDER BY OrderYear\"\n",
        " df_spark = spark.sql(sqlQuery)\n",
        " df_spark.show()\n"
      ],
      "outputs": [],
      "execution_count": 47,
      "metadata": {
        "jupyter": {
          "source_hidden": false,
          "outputs_hidden": false
        },
        "nteract": {
          "transient": {
            "deleting": false
          }
        }
      }
    },
    {
      "cell_type": "code",
      "source": [
        "from matplotlib import pyplot as plt\n",
        "\n",
        "df_sales = df_spark.toPandas()\n",
        "\n",
        "plt.bar(x=df_sales['OrderYear'], height=df_sales['GrossRevenue'])\n",
        "\n",
        "plt.show()"
      ],
      "outputs": [],
      "execution_count": 48,
      "metadata": {
        "jupyter": {
          "source_hidden": false,
          "outputs_hidden": false
        },
        "nteract": {
          "transient": {
            "deleting": false
          }
        }
      }
    },
    {
      "cell_type": "code",
      "source": [
        " # Clear the plot area\n",
        " plt.clf()\n",
        "\n",
        " # Create a bar plot of revenue by year\n",
        " plt.bar(x=df_sales['OrderYear'], height=df_sales['GrossRevenue'], color='orange')\n",
        "\n",
        " # Customize the chart\n",
        " plt.title('Revenue by Year')\n",
        " plt.xlabel('Year')\n",
        " plt.ylabel('Revenue')\n",
        " plt.grid(color='#95a5a6', linestyle='--', linewidth=2, axis='y', alpha=0.7)\n",
        " plt.xticks(rotation=45)\n",
        "\n",
        " # Show the figure\n",
        " plt.show()\n"
      ],
      "outputs": [],
      "execution_count": 49,
      "metadata": {
        "jupyter": {
          "source_hidden": false,
          "outputs_hidden": false
        },
        "nteract": {
          "transient": {
            "deleting": false
          }
        }
      }
    },
    {
      "cell_type": "code",
      "source": [
        " # Clear the plot area\n",
        " plt.clf()\n",
        "\n",
        " # Create a Figure\n",
        " fig = plt.figure(figsize=(8,3))\n",
        "\n",
        " # Create a bar plot of revenue by year\n",
        " plt.bar(x=df_sales['OrderYear'], height=df_sales['GrossRevenue'], color='orange')\n",
        "\n",
        " # Customize the chart\n",
        " plt.title('Revenue by Year')\n",
        " plt.xlabel('Year')\n",
        " plt.ylabel('Revenue')\n",
        " plt.grid(color='#95a5a6', linestyle='--', linewidth=2, axis='y', alpha=0.7)\n",
        " plt.xticks(rotation=45)\n",
        "\n",
        " # Show the figure\n",
        " plt.show()\n"
      ],
      "outputs": [],
      "execution_count": 50,
      "metadata": {
        "jupyter": {
          "source_hidden": false,
          "outputs_hidden": false
        },
        "nteract": {
          "transient": {
            "deleting": false
          }
        }
      }
    },
    {
      "cell_type": "code",
      "source": [
        " # Clear the plot area\n",
        " plt.clf()\n",
        "\n",
        " # Create a figure for 2 subplots (1 row, 2 columns)\n",
        " fig, ax = plt.subplots(1, 2, figsize = (10,4))\n",
        "\n",
        " # Create a bar plot of revenue by year on the first axis\n",
        " ax[0].bar(x=df_sales['OrderYear'], height=df_sales['GrossRevenue'], color='orange')\n",
        " ax[0].set_title('Revenue by Year')\n",
        "\n",
        " # Create a pie chart of yearly order counts on the second axis\n",
        " yearly_counts = df_sales['OrderYear'].value_counts()\n",
        " ax[1].pie(yearly_counts)\n",
        " ax[1].set_title('Orders per Year')\n",
        " ax[1].legend(yearly_counts.keys().tolist())\n",
        "\n",
        " # Add a title to the Figure\n",
        " fig.suptitle('Sales Data')\n",
        "\n",
        " # Show the figure\n",
        " plt.show()\n"
      ],
      "outputs": [],
      "execution_count": 51,
      "metadata": {
        "jupyter": {
          "source_hidden": false,
          "outputs_hidden": false
        },
        "nteract": {
          "transient": {
            "deleting": false
          }
        }
      }
    },
    {
      "cell_type": "code",
      "source": [
        " import seaborn as sns\n",
        "\n",
        " # Clear the plot area\n",
        " plt.clf()\n",
        "\n",
        " # Create a bar chart\n",
        " ax = sns.barplot(x=\"OrderYear\", y=\"GrossRevenue\", data=df_sales)\n",
        " plt.show()\n"
      ],
      "outputs": [],
      "execution_count": 52,
      "metadata": {
        "jupyter": {
          "source_hidden": false,
          "outputs_hidden": false
        },
        "nteract": {
          "transient": {
            "deleting": false
          }
        }
      }
    },
    {
      "cell_type": "code",
      "source": [
        " # Clear the plot area\n",
        " plt.clf()\n",
        "\n",
        " # Set the visual theme for seaborn\n",
        " sns.set_theme(style=\"whitegrid\")\n",
        "\n",
        " # Create a bar chart\n",
        " ax = sns.barplot(x=\"OrderYear\", y=\"GrossRevenue\", data=df_sales)\n",
        " plt.show()\n"
      ],
      "outputs": [],
      "execution_count": 53,
      "metadata": {
        "jupyter": {
          "source_hidden": false,
          "outputs_hidden": false
        },
        "nteract": {
          "transient": {
            "deleting": false
          }
        }
      }
    },
    {
      "cell_type": "code",
      "source": [
        " # Clear the plot area\n",
        " plt.clf()\n",
        "\n",
        " # Create a bar chart\n",
        " ax = sns.lineplot(x=\"OrderYear\", y=\"GrossRevenue\", data=df_sales)\n",
        " plt.show()\n"
      ],
      "outputs": [],
      "execution_count": 54,
      "metadata": {
        "jupyter": {
          "source_hidden": false,
          "outputs_hidden": false
        },
        "nteract": {
          "transient": {
            "deleting": false
          }
        }
      }
    },
    {
      "cell_type": "code",
      "source": [],
      "outputs": [],
      "execution_count": null,
      "metadata": {
        "jupyter": {
          "source_hidden": false,
          "outputs_hidden": false
        },
        "nteract": {
          "transient": {
            "deleting": false
          }
        }
      }
    }
  ],
  "metadata": {
    "kernelspec": {
      "name": "synapse_pyspark",
      "language": "Python",
      "display_name": "Synapse PySpark"
    },
    "language_info": {
      "name": "python"
    },
    "kernel_info": {
      "name": "synapse_pyspark"
    },
    "description": "Using matplotlib and seaborn for df visuals.",
    "save_output": true,
    "synapse_widget": {
      "version": "0.1",
      "state": {}
    }
  },
  "nbformat": 4,
  "nbformat_minor": 2
}